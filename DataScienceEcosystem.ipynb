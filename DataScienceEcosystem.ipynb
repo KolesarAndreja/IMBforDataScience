{
 "cells": [
  {
   "cell_type": "markdown",
   "id": "f20bea97-635e-418d-86c1-8ab2b5b4b1e7",
   "metadata": {},
   "source": [
    "# Data Science Tools and Ecosystem"
   ]
  },
  {
   "cell_type": "markdown",
   "id": "57cccbd1-c19a-4354-a750-f4b8aa9d3815",
   "metadata": {},
   "source": [
    "In this notebook, Data Science Tools and Ecosystem are summarized"
   ]
  },
  {
   "cell_type": "markdown",
   "id": "e4461d9b-d6cc-4fd4-95ca-6c537e293e21",
   "metadata": {},
   "source": [
    "**Objectives**\n",
    "- List popular Data Science languages\n",
    "- List libraries for Data Science\n",
    "- List open sourced Data Scinece tools"
   ]
  },
  {
   "cell_type": "markdown",
   "id": "7013977c-c19a-430a-bfd4-f7773717015a",
   "metadata": {},
   "source": [
    "Some of the popular languages that Data Scientists use are:\n",
    "1. Python\n",
    "2. R\n",
    "3. Julia"
   ]
  },
  {
   "cell_type": "markdown",
   "id": "8bc60617-7243-47d7-b6ea-14215503c4c5",
   "metadata": {},
   "source": [
    "Some of the commonly used libraries used by Data Scientists include:\n",
    "1. Pandas\n",
    "2. NumPy\n",
    "3. Matplotlib\n",
    "4. Seaborn"
   ]
  },
  {
   "cell_type": "markdown",
   "id": "ba43f1e1-9ba2-49c6-a99b-38136e69d41d",
   "metadata": {},
   "source": [
    "|Data Science Tools|\n",
    "|------------------|\n",
    "|Anaconda|\n",
    "|JupiterLite|\n",
    "|GoogleColab|\n"
   ]
  },
  {
   "cell_type": "markdown",
   "id": "22ca2398-e7a7-4c4c-9f11-055abe9bf72c",
   "metadata": {},
   "source": [
    "### Below are a few examples of evaluating arithmetic expressions in Python"
   ]
  },
  {
   "cell_type": "code",
   "execution_count": 2,
   "id": "f90a8ea9-7fde-4c2d-87ac-42259b42bf02",
   "metadata": {},
   "outputs": [
    {
     "data": {
      "text/plain": [
       "17"
      ]
     },
     "execution_count": 2,
     "metadata": {},
     "output_type": "execute_result"
    }
   ],
   "source": [
    "# this a simple arithmetic expression to multiply then add integers\n",
    "(3*4)+5"
   ]
  },
  {
   "cell_type": "code",
   "execution_count": 3,
   "id": "46759a63-37b2-4c81-b310-20437c71ea8c",
   "metadata": {},
   "outputs": [
    {
     "name": "stdout",
     "output_type": "stream",
     "text": [
      "3.3333333333333335\n"
     ]
    }
   ],
   "source": [
    "# This will convert 200 minutes to hours by diving by 60\n",
    "m = 200\n",
    "h = 200/60\n",
    "print(h)"
   ]
  },
  {
   "cell_type": "markdown",
   "id": "2d7068c2-7503-4fe6-8072-d6633537d18e",
   "metadata": {},
   "source": [
    "## Author: \n",
    "Andreja Kolesar Beserminji"
   ]
  },
  {
   "cell_type": "code",
   "execution_count": null,
   "id": "a9078f1f-df83-45cc-b7d0-b5ae3d47c4fa",
   "metadata": {},
   "outputs": [],
   "source": []
  }
 ],
 "metadata": {
  "kernelspec": {
   "display_name": "Python 3 (ipykernel)",
   "language": "python",
   "name": "python3"
  },
  "language_info": {
   "codemirror_mode": {
    "name": "ipython",
    "version": 3
   },
   "file_extension": ".py",
   "mimetype": "text/x-python",
   "name": "python",
   "nbconvert_exporter": "python",
   "pygments_lexer": "ipython3",
   "version": "3.12.8"
  }
 },
 "nbformat": 4,
 "nbformat_minor": 5
}
